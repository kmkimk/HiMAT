{
 "cells": [
  {
   "cell_type": "code",
   "execution_count": 3,
   "metadata": {
    "collapsed": true
   },
   "outputs": [],
   "source": [
    "import pandas as pd\n",
    "df = pd.read_excel(r'C:\\Users\\Anthony Arendt\\Google Drive\\NASA High Asia\\HiMAT team list.xlsx')"
   ]
  },
  {
   "cell_type": "code",
   "execution_count": 35,
   "metadata": {
    "collapsed": false
   },
   "outputs": [
    {
     "data": {
      "text/plain": [
       "array(['FirstName', 'LastName', 'email', 'PI_Team', 'Position',\n",
       "       'Institution', 'InstitutionType', 'InviteMeeting_1',\n",
       "       'AttendingTour_1', 'Citizenship', 'VisaStatus', 'Unnamed: 11',\n",
       "       'markdown'], dtype=object)"
      ]
     },
     "execution_count": 35,
     "metadata": {},
     "output_type": "execute_result"
    }
   ],
   "source": [
    "df.columns.values"
   ]
  },
  {
   "cell_type": "code",
   "execution_count": 41,
   "metadata": {
    "collapsed": false
   },
   "outputs": [
    {
     "data": {
      "text/html": [
       "<div>\n",
       "<table border=\"1\" class=\"dataframe\">\n",
       "  <thead>\n",
       "    <tr style=\"text-align: right;\">\n",
       "      <th></th>\n",
       "      <th>FirstName</th>\n",
       "      <th>LastName</th>\n",
       "      <th>email</th>\n",
       "      <th>PI_Team</th>\n",
       "      <th>Position</th>\n",
       "      <th>Institution</th>\n",
       "      <th>InstitutionType</th>\n",
       "      <th>InviteMeeting_1</th>\n",
       "      <th>AttendingTour_1</th>\n",
       "      <th>Citizenship</th>\n",
       "      <th>VisaStatus</th>\n",
       "      <th>Unnamed: 11</th>\n",
       "      <th>markdown</th>\n",
       "    </tr>\n",
       "  </thead>\n",
       "  <tbody>\n",
       "    <tr>\n",
       "      <th>1</th>\n",
       "      <td>Anthony</td>\n",
       "      <td>Arendt</td>\n",
       "      <td>arendta@uw.edu</td>\n",
       "      <td>Arendt</td>\n",
       "      <td>research scientist</td>\n",
       "      <td>University of Washington</td>\n",
       "      <td>Research Lab</td>\n",
       "      <td>Accepted</td>\n",
       "      <td>Y</td>\n",
       "      <td>Canada</td>\n",
       "      <td>Permanent Resident (Green Card)</td>\n",
       "      <td>2</td>\n",
       "      <td>| 2 | [Anthony Arendt](mailto:arendta@uw.edu) ...</td>\n",
       "    </tr>\n",
       "  </tbody>\n",
       "</table>\n",
       "</div>"
      ],
      "text/plain": [
       "  FirstName LastName           email PI_Team            Position  \\\n",
       "1   Anthony   Arendt  arendta@uw.edu  Arendt  research scientist   \n",
       "\n",
       "                Institution InstitutionType InviteMeeting_1 AttendingTour_1  \\\n",
       "1  University of Washington    Research Lab        Accepted               Y   \n",
       "\n",
       "  Citizenship                       VisaStatus Unnamed: 11  \\\n",
       "1      Canada  Permanent Resident (Green Card)           2   \n",
       "\n",
       "                                            markdown  \n",
       "1  | 2 | [Anthony Arendt](mailto:arendta@uw.edu) ...  "
      ]
     },
     "execution_count": 41,
     "metadata": {},
     "output_type": "execute_result"
    }
   ],
   "source": [
    "df[df.FirstName == \"Anthony\"]"
   ]
  },
  {
   "cell_type": "code",
   "execution_count": 34,
   "metadata": {
    "collapsed": false
   },
   "outputs": [
    {
     "data": {
      "text/html": [
       "<div>\n",
       "<table border=\"1\" class=\"dataframe\">\n",
       "  <thead>\n",
       "    <tr style=\"text-align: right;\">\n",
       "      <th></th>\n",
       "      <th>FirstName</th>\n",
       "      <th>InviteMeeting_1</th>\n",
       "    </tr>\n",
       "  </thead>\n",
       "  <tbody>\n",
       "    <tr>\n",
       "      <th>1</th>\n",
       "      <td>Anthony</td>\n",
       "      <td>Accepted</td>\n",
       "    </tr>\n",
       "    <tr>\n",
       "      <th>5</th>\n",
       "      <td>Rob</td>\n",
       "      <td>Accepted</td>\n",
       "    </tr>\n",
       "    <tr>\n",
       "      <th>8</th>\n",
       "      <td>Charley</td>\n",
       "      <td>Accepted</td>\n",
       "    </tr>\n",
       "    <tr>\n",
       "      <th>19</th>\n",
       "      <td>Bryant</td>\n",
       "      <td>Accepted</td>\n",
       "    </tr>\n",
       "    <tr>\n",
       "      <th>20</th>\n",
       "      <td>Scott</td>\n",
       "      <td>Accepted</td>\n",
       "    </tr>\n",
       "    <tr>\n",
       "      <th>29</th>\n",
       "      <td>Fisher</td>\n",
       "      <td>Accepted</td>\n",
       "    </tr>\n",
       "    <tr>\n",
       "      <th>32</th>\n",
       "      <td>Sasha</td>\n",
       "      <td>Accepted</td>\n",
       "    </tr>\n",
       "    <tr>\n",
       "      <th>35</th>\n",
       "      <td>David</td>\n",
       "      <td>Accepted</td>\n",
       "    </tr>\n",
       "  </tbody>\n",
       "</table>\n",
       "</div>"
      ],
      "text/plain": [
       "   FirstName InviteMeeting_1\n",
       "1    Anthony        Accepted\n",
       "5        Rob        Accepted\n",
       "8    Charley        Accepted\n",
       "19    Bryant        Accepted\n",
       "20     Scott        Accepted\n",
       "29    Fisher        Accepted\n",
       "32     Sasha        Accepted\n",
       "35     David        Accepted"
      ]
     },
     "execution_count": 34,
     "metadata": {},
     "output_type": "execute_result"
    }
   ],
   "source": [
    "df[df['PI_Team']=='Arendt'][['FirstName','InviteMeeting_1']]"
   ]
  },
  {
   "cell_type": "markdown",
   "metadata": {},
   "source": [
    "A way to get just the PI emails"
   ]
  },
  {
   "cell_type": "code",
   "execution_count": 2,
   "metadata": {
    "collapsed": false
   },
   "outputs": [
    {
     "data": {
      "text/plain": [
       "array(['arendta@uw.edu', 'phouser@gmu.edu', 'sarah.kapnick@noaa.gov',\n",
       "       'jeffreyskargel@hotmail.com', 'dalia.b.kirschbaum@nasa.gov',\n",
       "       'sujay.v.kumar@nasa.gov', 'kmcdonald2@ccny.cuny.edu',\n",
       "       'batuhan.osmanoglu@nasa.gov', 'thomas.painter@jpl.nasa.gov',\n",
       "       'summer.rupper@geog.utah.edu', 'si-chee.tsay@nasa.gov',\n",
       "       'margulis@seas.ucla.edu'], dtype=object)"
      ]
     },
     "execution_count": 2,
     "metadata": {},
     "output_type": "execute_result"
    }
   ],
   "source": [
    "df.query('(LastName == PI_Team)').email.values"
   ]
  },
  {
   "cell_type": "markdown",
   "metadata": {},
   "source": [
    "Getting just those attending meeting 1"
   ]
  },
  {
   "cell_type": "code",
   "execution_count": 4,
   "metadata": {
    "collapsed": false
   },
   "outputs": [],
   "source": [
    "list = df[df['InviteMeeting_1']=='Accepted'].email.to_csv(r'c:\\work\\csv.csv')"
   ]
  },
  {
   "cell_type": "code",
   "execution_count": 8,
   "metadata": {
    "collapsed": false
   },
   "outputs": [],
   "source": [
    "t=df[df['AttendingDinner_1']=='Y']"
   ]
  },
  {
   "cell_type": "code",
   "execution_count": 9,
   "metadata": {
    "collapsed": false
   },
   "outputs": [
    {
     "data": {
      "text/plain": [
       "42"
      ]
     },
     "execution_count": 9,
     "metadata": {},
     "output_type": "execute_result"
    }
   ],
   "source": [
    "len(t)"
   ]
  }
 ],
 "metadata": {
  "kernelspec": {
   "display_name": "Python 3",
   "language": "python",
   "name": "python3"
  },
  "language_info": {
   "codemirror_mode": {
    "name": "ipython",
    "version": 3
   },
   "file_extension": ".py",
   "mimetype": "text/x-python",
   "name": "python",
   "nbconvert_exporter": "python",
   "pygments_lexer": "ipython3",
   "version": "3.5.1"
  }
 },
 "nbformat": 4,
 "nbformat_minor": 0
}
